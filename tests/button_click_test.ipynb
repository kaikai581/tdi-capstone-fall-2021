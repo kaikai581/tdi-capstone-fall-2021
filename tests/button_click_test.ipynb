{
 "cells": [
  {
   "cell_type": "code",
   "execution_count": null,
   "metadata": {},
   "outputs": [],
   "source": [
    "# https://discourse.holoviz.org/t/generate-active-tab-from-a-button-click/2061\n",
    "\n",
    "# import panel as pn\n",
    "# pn.extension()\n",
    "\n",
    "# tabs = pn.Tabs(('tab1', pn.pane.Markdown('### Tab 1 display')),\n",
    "#                ('tab2', pn.pane.Markdown('### Tab 2 display')),\n",
    "#                ('tab3', pn.pane.Markdown('### Tab 3 display')))\n",
    "\n",
    "\n",
    "# action1 = pn.widgets.Button(name='Tab 1')\n",
    "# def click1(click): tabs.active = 0\n",
    "# action1.on_click(click1)\n",
    "\n",
    "\n",
    "# action2 = pn.widgets.Button(name='Tab 2')\n",
    "# def click2(click): tabs.active = 1\n",
    "# action2.on_click(click2)\n",
    "\n",
    "# action3 = pn.widgets.Button(name='Tab 3')\n",
    "# def click3(click): tabs.active = 2\n",
    "# action3.on_click(click3)\n",
    "\n",
    "# pn.Row(pn.Column(action1, action2, action3), tabs).servable()"
   ]
  },
  {
   "cell_type": "code",
   "execution_count": null,
   "metadata": {},
   "outputs": [],
   "source": [
    "import panel as pn\n",
    "pn.extension()\n",
    "\n",
    "# prepare widgets for model tryout\n",
    "text_area_input = pn.widgets.input.TextAreaInput(name='Try Out the Model', placeholder='Write your review here...')\n",
    "pred_button = pn.widgets.Button(name='Predict', button_type='primary')\n",
    "report_text = pn.widgets.TextInput(name='Predicted Usefulness')\n",
    "\n",
    "def react_to_click(event):\n",
    "    report_text.value = str(pred_button.clicks)\n",
    "pred_button.on_click(react_to_click)\n",
    "\n",
    "pn.Column(text_area_input, pred_button, report_text).servable()"
   ]
  }
 ],
 "metadata": {
  "language_info": {
   "name": "python"
  },
  "orig_nbformat": 4
 },
 "nbformat": 4,
 "nbformat_minor": 2
}
