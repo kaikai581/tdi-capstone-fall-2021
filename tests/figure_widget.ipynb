{
 "cells": [
  {
   "cell_type": "code",
   "execution_count": 22,
   "metadata": {},
   "outputs": [],
   "source": [
    "'''\n",
    "Ref: https://plotly.com/python/figurewidget/\n",
    "The github notebooks are simply too old (3 years+).\n",
    "'''\n",
    "import plotly.graph_objects as go\n",
    "\n",
    "f = go.FigureWidget()"
   ]
  },
  {
   "cell_type": "code",
   "execution_count": 27,
   "metadata": {},
   "outputs": [
    {
     "data": {
      "application/vnd.jupyter.widget-view+json": {
       "model_id": "32f18e83eeec44e98603d6dc9f4de1b4",
       "version_major": 2,
       "version_minor": 0
      },
      "text/plain": [
       "FigureWidget({\n",
       "    'data': [{'type': 'scatter', 'uid': 'dbb9756f-7955-47a2-8bbe-7f7809e3700d', 'y': [2, 1, 4, …"
      ]
     },
     "metadata": {},
     "output_type": "display_data"
    }
   ],
   "source": [
    "f.add_scatter(y=[2, 1, 4, 3]);\n",
    "f.add_bar(y=[1, 4, 3, 2]);\n",
    "f"
   ]
  },
  {
   "cell_type": "code",
   "execution_count": 28,
   "metadata": {},
   "outputs": [],
   "source": [
    "f.layout.title = 'Hello FigureWidget'"
   ]
  },
  {
   "cell_type": "code",
   "execution_count": 29,
   "metadata": {},
   "outputs": [
    {
     "name": "stdout",
     "output_type": "stream",
     "text": [
      "FigureWidget({\n",
      "    'data': [{'type': 'scatter', 'uid': 'dbb9756f-7955-47a2-8bbe-7f7809e3700d', 'y': [2, 1, 4, 3]},\n",
      "             {'type': 'scatter', 'uid': 'ad3b780f-ecd9-4e1d-b714-0a381ae7a2d6', 'y': [2, 1, 4, 3]},\n",
      "             {'type': 'bar', 'uid': '49346b1f-419e-4b08-95d3-bc373bb1e40d', 'y': [1, 4, 3, 2]}],\n",
      "    'layout': {'autosize': True, 'template': '...', 'title': {'text': 'Hello FigureWidget'}}\n",
      "})\n"
     ]
    }
   ],
   "source": [
    "print(f)"
   ]
  },
  {
   "cell_type": "markdown",
   "metadata": {},
   "source": [
    "# Test with my own data"
   ]
  },
  {
   "cell_type": "code",
   "execution_count": 34,
   "metadata": {},
   "outputs": [
    {
     "data": {
      "text/plain": [
       "Index(['title', 'total_game_hours_last_two_weeks', 'num_groups', 'orig_url',\n",
       "       'num_badges', 'review_url', 'num_found_funny', 'review', 'date_updated',\n",
       "       'num_workshop_items', 'date_posted', 'found_helpful_percentage',\n",
       "       'num_voted_helpfulness', 'achievement_progress', 'profile_url',\n",
       "       'num_found_helpful', 'steam_id_number', 'friend_player_level',\n",
       "       'num_found_unhelpful', 'total_game_hours', 'username', 'num_guides',\n",
       "       'rating', 'num_friends', 'num_screenshots', 'num_comments',\n",
       "       'num_reviews', 'num_games_owned', 'pred_rfr_untuned',\n",
       "       'pred_xgbr_untuned', 'pred_krr_untuned', 'pred_linr_untuned',\n",
       "       'pred_lstm_untuned', 'pred_lstm2_untuned'],\n",
       "      dtype='object')"
      ]
     },
     "metadata": {},
     "output_type": "display_data"
    }
   ],
   "source": [
    "from IPython.display import display\n",
    "import pandas as pd\n",
    "df = pd.read_csv('../data/test_pred.csv')\n",
    "display(df.columns)"
   ]
  },
  {
   "cell_type": "code",
   "execution_count": 48,
   "metadata": {},
   "outputs": [],
   "source": [
    "trace = go.Scatter(x=df.found_helpful_percentage, y=df.pred_lstm2_untuned, \\\n",
    "                   mode='markers')\n",
    "layout = go.Layout(title='Predicted Proportion of Positive Votes vs Truth')\n",
    "figure = go.Figure(data=[trace], layout=layout)\n",
    "f2 = go.FigureWidget(figure)"
   ]
  },
  {
   "cell_type": "code",
   "execution_count": 60,
   "metadata": {},
   "outputs": [
    {
     "data": {
      "application/vnd.jupyter.widget-view+json": {
       "model_id": "8e0d4cff35104ac7b71c8d1278486f6e",
       "version_major": 2,
       "version_minor": 0
      },
      "text/plain": [
       "VBox(children=(FigureWidget({\n",
       "    'data': [{'mode': 'markers',\n",
       "              'type': 'scatter',\n",
       "              …"
      ]
     },
     "metadata": {},
     "output_type": "display_data"
    }
   ],
   "source": [
    "'''\n",
    "Ref: https://community.plotly.com/t/on-click-event-bar-chart-attributeerror-figureweidget-object-has-no-attribute-on-click/39294\n",
    "'''\n",
    "\n",
    "from ipywidgets import Output, VBox\n",
    "\n",
    "out = Output()\n",
    "@out.capture(clear_output=True)\n",
    "def fetch_xy(trace, points, selector):\n",
    "    for i in points.point_inds:\n",
    "        df_sel = df[(df.found_helpful_percentage == perf_scatt.x[i]) & (df.pred_lstm2_untuned == perf_scatt.y[i])]\n",
    "        print(df_sel.iloc[0].review)\n",
    "\n",
    "perf_scatt = f2.data[0]\n",
    "perf_scatt.on_click(fetch_xy)\n",
    "\n",
    "VBox([f2, out])"
   ]
  },
  {
   "cell_type": "code",
   "execution_count": 52,
   "metadata": {},
   "outputs": [
    {
     "data": {
      "application/vnd.jupyter.widget-view+json": {
       "model_id": "f76a84ee8dce433497f67edd805d58a3",
       "version_major": 2,
       "version_minor": 0
      },
      "text/plain": [
       "VBox(children=(FigureWidget({\n",
       "    'data': [{'type': 'pie', 'uid': '867653ae-3185-4ef6-ae86-5c2ec623d9d3', 'val…"
      ]
     },
     "metadata": {},
     "output_type": "display_data"
    }
   ],
   "source": [
    "import plotly.graph_objs as go\n",
    "from ipywidgets import Output, VBox\n",
    "\n",
    "fig = go.FigureWidget()\n",
    "pie = fig.add_pie(values=[1, 2, 3])\n",
    "\n",
    "pie2 = fig.data[0]\n",
    "\n",
    "out = Output()\n",
    "@out.capture(clear_output=True)\n",
    "def handle_click(trace, points, state):\n",
    "    print(points.point_inds)\n",
    "\n",
    "pie2.on_click(handle_click)\n",
    "\n",
    "VBox([fig, out])"
   ]
  },
  {
   "cell_type": "code",
   "execution_count": null,
   "metadata": {},
   "outputs": [],
   "source": []
  }
 ],
 "metadata": {
  "interpreter": {
   "hash": "464cb4416c1bbb1013f12739a10e028ffee1bbadc4388d1a4e097aa1340e7516"
  },
  "kernelspec": {
   "display_name": "Python 3.9.7 64-bit ('conda-forge': conda)",
   "name": "python3"
  },
  "language_info": {
   "codemirror_mode": {
    "name": "ipython",
    "version": 3
   },
   "file_extension": ".py",
   "mimetype": "text/x-python",
   "name": "python",
   "nbconvert_exporter": "python",
   "pygments_lexer": "ipython3",
   "version": "3.9.7"
  },
  "orig_nbformat": 4
 },
 "nbformat": 4,
 "nbformat_minor": 2
}
