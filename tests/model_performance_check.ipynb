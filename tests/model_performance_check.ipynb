{
 "cells": [
  {
   "cell_type": "code",
   "execution_count": 5,
   "metadata": {},
   "outputs": [
    {
     "data": {
      "text/plain": [
       "Index(['title', 'total_game_hours_last_two_weeks', 'num_groups', 'orig_url',\n",
       "       'num_badges', 'review_url', 'num_found_funny', 'review', 'date_updated',\n",
       "       'num_workshop_items', 'date_posted', 'found_helpful_percentage',\n",
       "       'num_voted_helpfulness', 'achievement_progress', 'profile_url',\n",
       "       'num_found_helpful', 'steam_id_number', 'friend_player_level',\n",
       "       'num_found_unhelpful', 'total_game_hours', 'username', 'num_guides',\n",
       "       'rating', 'num_friends', 'num_screenshots', 'num_comments',\n",
       "       'num_reviews', 'num_games_owned', 'pred_rfr_untuned',\n",
       "       'pred_xgbr_untuned', 'pred_krr_untuned', 'pred_linr_untuned',\n",
       "       'pred_lstm_untuned', 'pred_lstm2_untuned'],\n",
       "      dtype='object')"
      ]
     },
     "metadata": {},
     "output_type": "display_data"
    }
   ],
   "source": [
    "from IPython.display import display\n",
    "import numpy as np\n",
    "import pandas as pd\n",
    "import seaborn as sns\n",
    "\n",
    "df = pd.read_csv('../data/test_pred.csv')\n",
    "display(df.columns)"
   ]
  },
  {
   "cell_type": "code",
   "execution_count": 9,
   "metadata": {},
   "outputs": [
    {
     "data": {
      "text/plain": [
       "<AxesSubplot:xlabel='random_score', ylabel='Count'>"
      ]
     },
     "execution_count": 9,
     "metadata": {},
     "output_type": "execute_result"
    },
    {
     "data": {
      "image/png": "[encoded data removed]",
      "text/plain": [
       "<Figure size 432x288 with 1 Axes>"
      ]
     },
     "metadata": {
      "needs_background": "light"
     },
     "output_type": "display_data"
    }
   ],
   "source": [
    "df['random_score'] = np.random.uniform(low=0, high=1, size=len(df))\n",
    "df['random_diff'] = df.random_score - df.found_helpful_percentage\n",
    "sns.histplot(data=df, x='random_score')"
   ]
  },
  {
   "cell_type": "code",
   "execution_count": 20,
   "metadata": {},
   "outputs": [
    {
     "data": {
      "text/plain": [
       "Text(0.5, 1.0, 'Mean Absolute Error: 0.330')"
      ]
     },
     "execution_count": 20,
     "metadata": {},
     "output_type": "execute_result"
    },
    {
     "data": {
      "image/png": "[encoded data removed]",
      "text/plain": [
       "<Figure size 432x288 with 1 Axes>"
      ]
     },
     "metadata": {
      "needs_background": "light"
     },
     "output_type": "display_data"
    }
   ],
   "source": [
    "ax = sns.histplot(x=df['random_diff'])\n",
    "ax.set_title('Mean Absolute Error: {:.3f}'.format(np.abs(df.random_diff).mean()))"
   ]
  },
  {
   "cell_type": "code",
   "execution_count": null,
   "metadata": {},
   "outputs": [],
   "source": []
  }
 ],
 "metadata": {
  "interpreter": {
   "hash": "464cb4416c1bbb1013f12739a10e028ffee1bbadc4388d1a4e097aa1340e7516"
  },
  "kernelspec": {
   "display_name": "Python 3.9.7 64-bit ('conda-forge': conda)",
   "name": "python3"
  },
  "language_info": {
   "codemirror_mode": {
    "name": "ipython",
    "version": 3
   },
   "file_extension": ".py",
   "mimetype": "text/x-python",
   "name": "python",
   "nbconvert_exporter": "python",
   "pygments_lexer": "ipython3",
   "version": "3.9.7"
  },
  "orig_nbformat": 4
 },
 "nbformat": 4,
 "nbformat_minor": 2
}
